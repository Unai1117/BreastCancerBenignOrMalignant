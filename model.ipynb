{
 "cells": [
  {
   "cell_type": "markdown",
   "metadata": {},
   "source": [
    "## Análisis y Modelado de Tumores utilizando Machine Learning\n",
    "En este notebook, exploraremos un dataset de OpenML que contiene información sobre características de tumores y su clasificación como benignos o malignos.\n",
    "El objetivo es identificar el mejor modelo de machine learning para predecir si un tumor es benigno o maligno, y afinar dicho modelo para obtener resultados óptimos.\n"
   ]
  },
  {
   "cell_type": "code",
   "execution_count": 1,
   "metadata": {},
   "outputs": [
    {
     "name": "stdout",
     "output_type": "stream",
     "text": [
      "Dimensiones del dataset: (569, 31)\n",
      "Primeras filas del dataset:\n",
      "      V1     V2      V3      V4       V5       V6      V7       V8      V9  \\\n",
      "0  17.99  10.38  122.80  1001.0  0.11840  0.27760  0.3001  0.14710  0.2419   \n",
      "1  20.57  17.77  132.90  1326.0  0.08474  0.07864  0.0869  0.07017  0.1812   \n",
      "2  19.69  21.25  130.00  1203.0  0.10960  0.15990  0.1974  0.12790  0.2069   \n",
      "3  11.42  20.38   77.58   386.1  0.14250  0.28390  0.2414  0.10520  0.2597   \n",
      "4  20.29  14.34  135.10  1297.0  0.10030  0.13280  0.1980  0.10430  0.1809   \n",
      "\n",
      "       V10  ...    V22     V23     V24     V25     V26     V27     V28  \\\n",
      "0  0.07871  ...  17.33  184.60  2019.0  0.1622  0.6656  0.7119  0.2654   \n",
      "1  0.05667  ...  23.41  158.80  1956.0  0.1238  0.1866  0.2416  0.1860   \n",
      "2  0.05999  ...  25.53  152.50  1709.0  0.1444  0.4245  0.4504  0.2430   \n",
      "3  0.09744  ...  26.50   98.87   567.7  0.2098  0.8663  0.6869  0.2575   \n",
      "4  0.05883  ...  16.67  152.20  1575.0  0.1374  0.2050  0.4000  0.1625   \n",
      "\n",
      "      V29      V30  target  \n",
      "0  0.4601  0.11890       2  \n",
      "1  0.2750  0.08902       2  \n",
      "2  0.3613  0.08758       2  \n",
      "3  0.6638  0.17300       2  \n",
      "4  0.2364  0.07678       2  \n",
      "\n",
      "[5 rows x 31 columns]\n",
      "#################################\n",
      "<class 'pandas.core.frame.DataFrame'>\n",
      "RangeIndex: 569 entries, 0 to 568\n",
      "Data columns (total 31 columns):\n",
      " #   Column  Non-Null Count  Dtype   \n",
      "---  ------  --------------  -----   \n",
      " 0   V1      569 non-null    float64 \n",
      " 1   V2      569 non-null    float64 \n",
      " 2   V3      569 non-null    float64 \n",
      " 3   V4      569 non-null    float64 \n",
      " 4   V5      569 non-null    float64 \n",
      " 5   V6      569 non-null    float64 \n",
      " 6   V7      569 non-null    float64 \n",
      " 7   V8      569 non-null    float64 \n",
      " 8   V9      569 non-null    float64 \n",
      " 9   V10     569 non-null    float64 \n",
      " 10  V11     569 non-null    float64 \n",
      " 11  V12     569 non-null    float64 \n",
      " 12  V13     569 non-null    float64 \n",
      " 13  V14     569 non-null    float64 \n",
      " 14  V15     569 non-null    float64 \n",
      " 15  V16     569 non-null    float64 \n",
      " 16  V17     569 non-null    float64 \n",
      " 17  V18     569 non-null    float64 \n",
      " 18  V19     569 non-null    float64 \n",
      " 19  V20     569 non-null    float64 \n",
      " 20  V21     569 non-null    float64 \n",
      " 21  V22     569 non-null    float64 \n",
      " 22  V23     569 non-null    float64 \n",
      " 23  V24     569 non-null    float64 \n",
      " 24  V25     569 non-null    float64 \n",
      " 25  V26     569 non-null    float64 \n",
      " 26  V27     569 non-null    float64 \n",
      " 27  V28     569 non-null    float64 \n",
      " 28  V29     569 non-null    float64 \n",
      " 29  V30     569 non-null    float64 \n",
      " 30  target  569 non-null    category\n",
      "dtypes: category(1), float64(30)\n",
      "memory usage: 134.2 KB\n",
      "None\n"
     ]
    }
   ],
   "source": [
    "import openml\n",
    "\n",
    "dataset_id = 1510\n",
    "\n",
    "# Descargar el dataset desde OpenML\n",
    "dataset = openml.datasets.get_dataset(dataset_id)\n",
    "\n",
    "# Extraer los datos y metadatos\n",
    "X, y, _, attribute_names = dataset.get_data(target=dataset.default_target_attribute, dataset_format='dataframe')\n",
    "\n",
    "# Combinar los datos en un solo DataFrame\n",
    "data = X.copy()\n",
    "data['target'] = y\n",
    "\n",
    "print(\"Dimensiones del dataset:\", data.shape)\n",
    "print(\"Primeras filas del dataset:\")\n",
    "print(data.head())\n",
    "\n",
    "print(\"#################################\")\n",
    "print(data.info())"
   ]
  },
  {
   "cell_type": "markdown",
   "metadata": {},
   "source": [
    "### Sobre los datos\n",
    "Observamos que el dataset no tiene valores faltantes (`NaN`) y contiene información estructurada. Antes de continuar, asignaremos nombres descriptivos a las columnas para facilitar su comprensión."
   ]
  },
  {
   "cell_type": "code",
   "execution_count": 2,
   "metadata": {},
   "outputs": [
    {
     "name": "stdout",
     "output_type": "stream",
     "text": [
      "   mean radius  mean texture  mean perimeter  mean area  mean smoothness  \\\n",
      "0        17.99         10.38          122.80     1001.0          0.11840   \n",
      "1        20.57         17.77          132.90     1326.0          0.08474   \n",
      "2        19.69         21.25          130.00     1203.0          0.10960   \n",
      "3        11.42         20.38           77.58      386.1          0.14250   \n",
      "4        20.29         14.34          135.10     1297.0          0.10030   \n",
      "\n",
      "   mean compactness  mean concavity  mean concave points  mean symmetry  \\\n",
      "0           0.27760          0.3001              0.14710         0.2419   \n",
      "1           0.07864          0.0869              0.07017         0.1812   \n",
      "2           0.15990          0.1974              0.12790         0.2069   \n",
      "3           0.28390          0.2414              0.10520         0.2597   \n",
      "4           0.13280          0.1980              0.10430         0.1809   \n",
      "\n",
      "   mean fractal dimension  ...  worst texture  worst perimeter  worst area  \\\n",
      "0                 0.07871  ...          17.33           184.60      2019.0   \n",
      "1                 0.05667  ...          23.41           158.80      1956.0   \n",
      "2                 0.05999  ...          25.53           152.50      1709.0   \n",
      "3                 0.09744  ...          26.50            98.87       567.7   \n",
      "4                 0.05883  ...          16.67           152.20      1575.0   \n",
      "\n",
      "   worst smoothness  worst compactness  worst concavity  worst concave points  \\\n",
      "0            0.1622             0.6656           0.7119                0.2654   \n",
      "1            0.1238             0.1866           0.2416                0.1860   \n",
      "2            0.1444             0.4245           0.4504                0.2430   \n",
      "3            0.2098             0.8663           0.6869                0.2575   \n",
      "4            0.1374             0.2050           0.4000                0.1625   \n",
      "\n",
      "   worst symmetry  worst fractal dimension  target  \n",
      "0          0.4601                  0.11890       2  \n",
      "1          0.2750                  0.08902       2  \n",
      "2          0.3613                  0.08758       2  \n",
      "3          0.6638                  0.17300       2  \n",
      "4          0.2364                  0.07678       2  \n",
      "\n",
      "[5 rows x 31 columns]\n"
     ]
    }
   ],
   "source": [
    "column_names = [\n",
    "    \"mean radius\", \"mean texture\", \"mean perimeter\", \"mean area\", \"mean smoothness\",\n",
    "    \"mean compactness\", \"mean concavity\", \"mean concave points\", \"mean symmetry\", \"mean fractal dimension\",\n",
    "    \"radius error\", \"texture error\", \"perimeter error\", \"area error\", \"smoothness error\",\n",
    "    \"compactness error\", \"concavity error\", \"concave points error\", \"symmetry error\", \"fractal dimension error\",\n",
    "    \"worst radius\", \"worst texture\", \"worst perimeter\", \"worst area\", \"worst smoothness\",\n",
    "    \"worst compactness\", \"worst concavity\", \"worst concave points\", \"worst symmetry\", \"worst fractal dimension\",\n",
    "    \"target\"\n",
    "]\n",
    "\n",
    "data.columns = column_names\n",
    "\n",
    "print(data.head())"
   ]
  },
  {
   "cell_type": "code",
   "execution_count": 3,
   "metadata": {},
   "outputs": [
    {
     "name": "stdout",
     "output_type": "stream",
     "text": [
      "target\n",
      "1    357\n",
      "2    212\n",
      "Name: count, dtype: int64\n"
     ]
    },
    {
     "data": {
      "image/png": "[encoded data removed]",
      "text/plain": [
       "<Figure size 640x480 with 1 Axes>"
      ]
     },
     "metadata": {},
     "output_type": "display_data"
    }
   ],
   "source": [
    "print(data['target'].value_counts())\n",
    "\n",
    "import seaborn as sns\n",
    "import matplotlib.pyplot as plt\n",
    "\n",
    "sns.countplot(x=data['target'])\n",
    "plt.title('Distribución de Clases')\n",
    "plt.xlabel('Pronóstico (1 = Benigno, 2 = Maligno)')\n",
    "plt.ylabel('Frecuencia')\n",
    "plt.show()\n"
   ]
  },
  {
   "cell_type": "markdown",
   "metadata": {},
   "source": [
    "#### Separación de Datos de Entrenamiento y Prueba\n",
    "Dividimos los datos en conjuntos de entrenamiento y prueba."
   ]
  },
  {
   "cell_type": "code",
   "execution_count": 4,
   "metadata": {},
   "outputs": [
    {
     "name": "stdout",
     "output_type": "stream",
     "text": [
      "Tamaño del conjunto de entrenamiento: (455, 30)\n",
      "Tamaño del conjunto de prueba: (114, 30)\n"
     ]
    }
   ],
   "source": [
    "from sklearn.model_selection import train_test_split\n",
    "\n",
    "X = data.drop('target', axis=1)\n",
    "y = data['target']\n",
    "\n",
    "X_train, X_test, y_train, y_test = train_test_split(X, y, test_size=0.2, random_state=42)\n",
    "\n",
    "print(\"Tamaño del conjunto de entrenamiento:\", X_train.shape)\n",
    "print(\"Tamaño del conjunto de prueba:\", X_test.shape)\n"
   ]
  },
  {
   "cell_type": "markdown",
   "metadata": {},
   "source": [
    "#### Prueba de diferentes modelos\n",
    "Una vez hemos separado y preparado nuestros datos, vamos a poner a prueba diferentes modelos para poder utilizar aquel que nos de un mejor resultado"
   ]
  },
  {
   "cell_type": "code",
   "execution_count": 5,
   "metadata": {},
   "outputs": [
    {
     "name": "stdout",
     "output_type": "stream",
     "text": [
      "              precision    recall  f1-score   support\n",
      "\n",
      "     Benigno       0.96      0.99      0.97        71\n",
      "     Maligno       0.98      0.93      0.95        43\n",
      "\n",
      "    accuracy                           0.96       114\n",
      "   macro avg       0.97      0.96      0.96       114\n",
      "weighted avg       0.97      0.96      0.96       114\n",
      "\n"
     ]
    }
   ],
   "source": [
    "from sklearn.ensemble import RandomForestClassifier\n",
    "from sklearn.metrics import classification_report\n",
    "\n",
    "model = RandomForestClassifier(random_state=42)\n",
    "model.fit(X_train, y_train)\n",
    "\n",
    "y_pred = model.predict(X_test)\n",
    "print(classification_report(y_test, y_pred, target_names=['Benigno', 'Maligno']))\n"
   ]
  },
  {
   "cell_type": "code",
   "execution_count": 6,
   "metadata": {},
   "outputs": [
    {
     "name": "stdout",
     "output_type": "stream",
     "text": [
      "Resultados de Regresión Logística:\n",
      "              precision    recall  f1-score   support\n",
      "\n",
      "     Benigno       0.95      0.99      0.97        71\n",
      "     Maligno       0.97      0.91      0.94        43\n",
      "\n",
      "    accuracy                           0.96       114\n",
      "   macro avg       0.96      0.95      0.95       114\n",
      "weighted avg       0.96      0.96      0.96       114\n",
      "\n"
     ]
    }
   ],
   "source": [
    "from sklearn.linear_model import LogisticRegression\n",
    "from sklearn.metrics import classification_report\n",
    "\n",
    "logreg_model = LogisticRegression(max_iter=5000, random_state=42)\n",
    "logreg_model.fit(X_train, y_train)\n",
    "y_pred_logreg = logreg_model.predict(X_test)\n",
    "\n",
    "print(\"Resultados de Regresión Logística:\")\n",
    "print(classification_report(y_test, y_pred_logreg, target_names=['Benigno', 'Maligno']))\n"
   ]
  },
  {
   "cell_type": "code",
   "execution_count": 7,
   "metadata": {},
   "outputs": [
    {
     "name": "stdout",
     "output_type": "stream",
     "text": [
      "Resultados de Support Vector Machine (SVM):\n",
      "              precision    recall  f1-score   support\n",
      "\n",
      "     Benigno       0.95      0.99      0.97        71\n",
      "     Maligno       0.97      0.91      0.94        43\n",
      "\n",
      "    accuracy                           0.96       114\n",
      "   macro avg       0.96      0.95      0.95       114\n",
      "weighted avg       0.96      0.96      0.96       114\n",
      "\n"
     ]
    }
   ],
   "source": [
    "from sklearn.svm import SVC\n",
    "\n",
    "svm_model = SVC(kernel='linear', random_state=42)\n",
    "svm_model.fit(X_train, y_train)\n",
    "\n",
    "y_pred_svm = svm_model.predict(X_test)\n",
    "print(\"Resultados de Support Vector Machine (SVM):\")\n",
    "print(classification_report(y_test, y_pred_svm, target_names=['Benigno', 'Maligno']))\n"
   ]
  },
  {
   "cell_type": "code",
   "execution_count": 8,
   "metadata": {},
   "outputs": [
    {
     "name": "stdout",
     "output_type": "stream",
     "text": [
      "Resultados de Gradient Boosting:\n",
      "              precision    recall  f1-score   support\n",
      "\n",
      "     Benigno       0.96      0.97      0.97        71\n",
      "     Maligno       0.95      0.93      0.94        43\n",
      "\n",
      "    accuracy                           0.96       114\n",
      "   macro avg       0.96      0.95      0.95       114\n",
      "weighted avg       0.96      0.96      0.96       114\n",
      "\n"
     ]
    }
   ],
   "source": [
    "from sklearn.ensemble import GradientBoostingClassifier\n",
    "\n",
    "gb_model = GradientBoostingClassifier(random_state=42)\n",
    "gb_model.fit(X_train, y_train)\n",
    "\n",
    "y_pred_gb = gb_model.predict(X_test)\n",
    "print(\"Resultados de Gradient Boosting:\")\n",
    "print(classification_report(y_test, y_pred_gb, target_names=['Benigno', 'Maligno']))\n"
   ]
  },
  {
   "cell_type": "code",
   "execution_count": 9,
   "metadata": {},
   "outputs": [
    {
     "name": "stdout",
     "output_type": "stream",
     "text": [
      "Accuracy promedio con validación cruzada (Logistic Regression): 0.9507995652848935\n",
      "Accuracy promedio con validación cruzada (SVM): 0.9455364073901569\n",
      "Accuracy promedio con validación cruzada (Gradient Boosting): 0.9613724576929048\n"
     ]
    }
   ],
   "source": [
    "from sklearn.model_selection import cross_val_score\n",
    "\n",
    "cv_scores = cross_val_score(logreg_model, X, y, cv=5, scoring='accuracy')\n",
    "print(\"Accuracy promedio con validación cruzada (Logistic Regression):\", cv_scores.mean())\n",
    "\n",
    "cv_scores = cross_val_score(svm_model, X, y, cv=5, scoring='accuracy')\n",
    "print(\"Accuracy promedio con validación cruzada (SVM):\", cv_scores.mean())\n",
    "\n",
    "cv_scores = cross_val_score(gb_model, X, y, cv=5, scoring='accuracy')\n",
    "print(\"Accuracy promedio con validación cruzada (Gradient Boosting):\", cv_scores.mean())\n"
   ]
  },
  {
   "cell_type": "markdown",
   "metadata": {},
   "source": [
    "#### Elección del modelo\n",
    "Podemos observar después de diversas pruebas que el mejor algoritmo para nuestro caso, aunque por muy poca diferencia, es el Gradient Boosting el cual consigue muy buenos resultados a la hora de predecir si un tumor es benigno o maligno.\n",
    "Ahora el objetivo es intentar refinar el modelo para que se acerque aún más a la perfección. \n"
   ]
  },
  {
   "cell_type": "code",
   "execution_count": 12,
   "metadata": {},
   "outputs": [
    {
     "name": "stdout",
     "output_type": "stream",
     "text": [
      "Mejores parámetros: {'learning_rate': 0.1, 'max_depth': 3, 'min_samples_leaf': 4, 'min_samples_split': 2, 'n_estimators': 100}\n",
      "Resultados del Mejor Modelo de Gradient Boosting:\n",
      "              precision    recall  f1-score   support\n",
      "\n",
      "     Benigno       0.96      0.97      0.97        71\n",
      "     Maligno       0.95      0.93      0.94        43\n",
      "\n",
      "    accuracy                           0.96       114\n",
      "   macro avg       0.96      0.95      0.95       114\n",
      "weighted avg       0.96      0.96      0.96       114\n",
      "\n"
     ]
    }
   ],
   "source": [
    "from sklearn.ensemble import GradientBoostingClassifier\n",
    "from sklearn.model_selection import GridSearchCV\n",
    "\n",
    "# Definir el modelo\n",
    "gb_model = GradientBoostingClassifier(random_state=42)\n",
    "\n",
    "# Definir el grid de hiperparámetros\n",
    "param_grid = {\n",
    "    'n_estimators': [100, 200, 300],      # Número de árboles\n",
    "    'learning_rate': [0.01, 0.1, 0.2],    # Tasa de aprendizaje\n",
    "    'max_depth': [3, 4, 5],               # Profundidad de los árboles\n",
    "    'min_samples_split': [2, 5, 10],      # Muestras mínimas para dividir un nodo\n",
    "    'min_samples_leaf': [1, 2, 4]         # Muestras mínimas en una hoja\n",
    "}\n",
    "\n",
    "# Configurar GridSearchCV\n",
    "grid_search = GridSearchCV(\n",
    "    estimator=gb_model,\n",
    "    param_grid=param_grid,\n",
    "    cv=5,              # Validación cruzada de 5 folds\n",
    "    scoring='accuracy',\n",
    "    verbose=0,\n",
    "    n_jobs=-1          # Usar todos los núcleos disponibles\n",
    ")\n",
    "\n",
    "# Entrenar GridSearchCV\n",
    "grid_search.fit(X_train, y_train)\n",
    "\n",
    "# Mejor combinación de hiperparámetros\n",
    "print(\"Mejores parámetros:\", grid_search.best_params_)\n",
    "\n",
    "# Evaluar el mejor modelo\n",
    "best_gb_model = grid_search.best_estimator_\n",
    "y_pred_best_gb = best_gb_model.predict(X_test)\n",
    "\n",
    "from sklearn.metrics import classification_report\n",
    "print(\"Resultados del Mejor Modelo de Gradient Boosting:\")\n",
    "print(classification_report(y_test, y_pred_best_gb, target_names=['Benigno', 'Maligno']))\n"
   ]
  },
  {
   "cell_type": "markdown",
   "metadata": {},
   "source": [
    "Los mejores hiperparámetros en nuestro caso son: 'learning_rate': 0.1, 'max_depth': 3, 'min_samples_leaf': 4, 'min_samples_split': 2, 'n_estimators': 100\n"
   ]
  }
 ],
 "metadata": {
  "kernelspec": {
   "display_name": ".venv",
   "language": "python",
   "name": "python3"
  },
  "language_info": {
   "codemirror_mode": {
    "name": "ipython",
    "version": 3
   },
   "file_extension": ".py",
   "mimetype": "text/x-python",
   "name": "python",
   "nbconvert_exporter": "python",
   "pygments_lexer": "ipython3",
   "version": "3.12.3"
  }
 },
 "nbformat": 4,
 "nbformat_minor": 2
}
