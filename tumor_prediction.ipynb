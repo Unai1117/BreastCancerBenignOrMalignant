{
 "cells": [
  {
   "cell_type": "markdown",
   "metadata": {},
   "source": [
    "## Tumour Analysis and Modelling using Machine Learning\n",
    "In this notebook, we will explore an OpenML dataset containing information about tumour characteristics and their classification as benign or malignant.\n",
    "The goal is to identify the best machine learning model to predict whether a tumour is benign or malignant, and to tune that model for optimal results.\n"
   ]
  },
  {
   "cell_type": "code",
   "execution_count": 2,
   "metadata": {},
   "outputs": [
    {
     "name": "stdout",
     "output_type": "stream",
     "text": [
      "Dimensiones del dataset: (569, 31)\n",
      "Primeras filas del dataset:\n",
      "      V1     V2      V3      V4       V5       V6      V7       V8      V9  \\\n",
      "0  17.99  10.38  122.80  1001.0  0.11840  0.27760  0.3001  0.14710  0.2419   \n",
      "1  20.57  17.77  132.90  1326.0  0.08474  0.07864  0.0869  0.07017  0.1812   \n",
      "2  19.69  21.25  130.00  1203.0  0.10960  0.15990  0.1974  0.12790  0.2069   \n",
      "3  11.42  20.38   77.58   386.1  0.14250  0.28390  0.2414  0.10520  0.2597   \n",
      "4  20.29  14.34  135.10  1297.0  0.10030  0.13280  0.1980  0.10430  0.1809   \n",
      "\n",
      "       V10  ...    V22     V23     V24     V25     V26     V27     V28  \\\n",
      "0  0.07871  ...  17.33  184.60  2019.0  0.1622  0.6656  0.7119  0.2654   \n",
      "1  0.05667  ...  23.41  158.80  1956.0  0.1238  0.1866  0.2416  0.1860   \n",
      "2  0.05999  ...  25.53  152.50  1709.0  0.1444  0.4245  0.4504  0.2430   \n",
      "3  0.09744  ...  26.50   98.87   567.7  0.2098  0.8663  0.6869  0.2575   \n",
      "4  0.05883  ...  16.67  152.20  1575.0  0.1374  0.2050  0.4000  0.1625   \n",
      "\n",
      "      V29      V30  target  \n",
      "0  0.4601  0.11890       2  \n",
      "1  0.2750  0.08902       2  \n",
      "2  0.3613  0.08758       2  \n",
      "3  0.6638  0.17300       2  \n",
      "4  0.2364  0.07678       2  \n",
      "\n",
      "[5 rows x 31 columns]\n",
      "#################################\n",
      "<class 'pandas.core.frame.DataFrame'>\n",
      "RangeIndex: 569 entries, 0 to 568\n",
      "Data columns (total 31 columns):\n",
      " #   Column  Non-Null Count  Dtype   \n",
      "---  ------  --------------  -----   \n",
      " 0   V1      569 non-null    float64 \n",
      " 1   V2      569 non-null    float64 \n",
      " 2   V3      569 non-null    float64 \n",
      " 3   V4      569 non-null    float64 \n",
      " 4   V5      569 non-null    float64 \n",
      " 5   V6      569 non-null    float64 \n",
      " 6   V7      569 non-null    float64 \n",
      " 7   V8      569 non-null    float64 \n",
      " 8   V9      569 non-null    float64 \n",
      " 9   V10     569 non-null    float64 \n",
      " 10  V11     569 non-null    float64 \n",
      " 11  V12     569 non-null    float64 \n",
      " 12  V13     569 non-null    float64 \n",
      " 13  V14     569 non-null    float64 \n",
      " 14  V15     569 non-null    float64 \n",
      " 15  V16     569 non-null    float64 \n",
      " 16  V17     569 non-null    float64 \n",
      " 17  V18     569 non-null    float64 \n",
      " 18  V19     569 non-null    float64 \n",
      " 19  V20     569 non-null    float64 \n",
      " 20  V21     569 non-null    float64 \n",
      " 21  V22     569 non-null    float64 \n",
      " 22  V23     569 non-null    float64 \n",
      " 23  V24     569 non-null    float64 \n",
      " 24  V25     569 non-null    float64 \n",
      " 25  V26     569 non-null    float64 \n",
      " 26  V27     569 non-null    float64 \n",
      " 27  V28     569 non-null    float64 \n",
      " 28  V29     569 non-null    float64 \n",
      " 29  V30     569 non-null    float64 \n",
      " 30  target  569 non-null    category\n",
      "dtypes: category(1), float64(30)\n",
      "memory usage: 134.2 KB\n",
      "None\n"
     ]
    }
   ],
   "source": [
    "import openml\n",
    "\n",
    "dataset_id = 1510\n",
    "\n",
    "# Descargar el dataset desde OpenML\n",
    "dataset = openml.datasets.get_dataset(dataset_id)\n",
    "\n",
    "# Extraer los datos y metadatos\n",
    "X, y, _, attribute_names = dataset.get_data(target=dataset.default_target_attribute, dataset_format='dataframe')\n",
    "\n",
    "# Combinar los datos en un solo DataFrame\n",
    "data = X.copy()\n",
    "data['target'] = y\n",
    "\n",
    "print(\"Dimensiones del dataset:\", data.shape)\n",
    "print(\"Primeras filas del dataset:\")\n",
    "print(data.head())\n",
    "\n",
    "print(\"#################################\")\n",
    "print(data.info())"
   ]
  },
  {
   "cell_type": "markdown",
   "metadata": {},
   "source": [
    "### About the data\n",
    "We note that the dataset has no missing values (`NaN`) and contains structured information. Before we continue, we will assign descriptive names to the columns to make them easier to understand."
   ]
  },
  {
   "cell_type": "code",
   "execution_count": 3,
   "metadata": {},
   "outputs": [
    {
     "name": "stdout",
     "output_type": "stream",
     "text": [
      "   mean radius  mean texture  mean perimeter  mean area  mean smoothness  \\\n",
      "0        17.99         10.38          122.80     1001.0          0.11840   \n",
      "1        20.57         17.77          132.90     1326.0          0.08474   \n",
      "2        19.69         21.25          130.00     1203.0          0.10960   \n",
      "3        11.42         20.38           77.58      386.1          0.14250   \n",
      "4        20.29         14.34          135.10     1297.0          0.10030   \n",
      "\n",
      "   mean compactness  mean concavity  mean concave points  mean symmetry  \\\n",
      "0           0.27760          0.3001              0.14710         0.2419   \n",
      "1           0.07864          0.0869              0.07017         0.1812   \n",
      "2           0.15990          0.1974              0.12790         0.2069   \n",
      "3           0.28390          0.2414              0.10520         0.2597   \n",
      "4           0.13280          0.1980              0.10430         0.1809   \n",
      "\n",
      "   mean fractal dimension  ...  worst texture  worst perimeter  worst area  \\\n",
      "0                 0.07871  ...          17.33           184.60      2019.0   \n",
      "1                 0.05667  ...          23.41           158.80      1956.0   \n",
      "2                 0.05999  ...          25.53           152.50      1709.0   \n",
      "3                 0.09744  ...          26.50            98.87       567.7   \n",
      "4                 0.05883  ...          16.67           152.20      1575.0   \n",
      "\n",
      "   worst smoothness  worst compactness  worst concavity  worst concave points  \\\n",
      "0            0.1622             0.6656           0.7119                0.2654   \n",
      "1            0.1238             0.1866           0.2416                0.1860   \n",
      "2            0.1444             0.4245           0.4504                0.2430   \n",
      "3            0.2098             0.8663           0.6869                0.2575   \n",
      "4            0.1374             0.2050           0.4000                0.1625   \n",
      "\n",
      "   worst symmetry  worst fractal dimension  target  \n",
      "0          0.4601                  0.11890       2  \n",
      "1          0.2750                  0.08902       2  \n",
      "2          0.3613                  0.08758       2  \n",
      "3          0.6638                  0.17300       2  \n",
      "4          0.2364                  0.07678       2  \n",
      "\n",
      "[5 rows x 31 columns]\n"
     ]
    }
   ],
   "source": [
    "column_names = [\n",
    "    \"mean radius\", \"mean texture\", \"mean perimeter\", \"mean area\", \"mean smoothness\",\n",
    "    \"mean compactness\", \"mean concavity\", \"mean concave points\", \"mean symmetry\", \"mean fractal dimension\",\n",
    "    \"radius error\", \"texture error\", \"perimeter error\", \"area error\", \"smoothness error\",\n",
    "    \"compactness error\", \"concavity error\", \"concave points error\", \"symmetry error\", \"fractal dimension error\",\n",
    "    \"worst radius\", \"worst texture\", \"worst perimeter\", \"worst area\", \"worst smoothness\",\n",
    "    \"worst compactness\", \"worst concavity\", \"worst concave points\", \"worst symmetry\", \"worst fractal dimension\",\n",
    "    \"target\"\n",
    "]\n",
    "\n",
    "data.columns = column_names\n",
    "\n",
    "print(data.head())"
   ]
  },
  {
   "cell_type": "code",
   "execution_count": 4,
   "metadata": {},
   "outputs": [
    {
     "name": "stdout",
     "output_type": "stream",
     "text": [
      "target\n",
      "1    357\n",
      "2    212\n",
      "Name: count, dtype: int64\n"
     ]
    },
    {
     "data": {
      "image/png": "[encoded data removed]",
      "text/plain": [
       "<Figure size 640x480 with 1 Axes>"
      ]
     },
     "metadata": {},
     "output_type": "display_data"
    }
   ],
   "source": [
    "print(data['target'].value_counts())\n",
    "\n",
    "import seaborn as sns\n",
    "import matplotlib.pyplot as plt\n",
    "\n",
    "sns.countplot(x=data['target'])\n",
    "plt.title('Distribución de Clases')\n",
    "plt.xlabel('Pronóstico (1 = Benigno, 2 = Maligno)')\n",
    "plt.ylabel('Frecuencia')\n",
    "plt.show()\n"
   ]
  },
  {
   "cell_type": "markdown",
   "metadata": {},
   "source": [
    "#### Separation of Training and Test Data\n",
    "We split the data into training and test sets."
   ]
  },
  {
   "cell_type": "code",
   "execution_count": null,
   "metadata": {},
   "outputs": [
    {
     "name": "stdout",
     "output_type": "stream",
     "text": [
      "Tamaño del conjunto de entrenamiento: (455, 30)\n",
      "Tamaño del conjunto de prueba: (114, 30)\n"
     ]
    }
   ],
   "source": [
    "from sklearn.model_selection import train_test_split\n",
    "\n",
    "X = data.drop('target', axis=1)\n",
    "y = data['target']\n",
    "\n",
    "X_train, X_test, y_train, y_test = train_test_split(X, y, test_size=0.2, random_state=42)\n",
    "\n",
    "print(\"Training data set size:\", X_train.shape)\n",
    "print(\"Test data set size:\", X_test.shape)\n"
   ]
  },
  {
   "cell_type": "markdown",
   "metadata": {},
   "source": [
    "#### Testing different models\n",
    "Once we have separated and prepared our data, we are going to test different models so that we can use the one that gives us the best result."
   ]
  },
  {
   "cell_type": "code",
   "execution_count": 6,
   "metadata": {},
   "outputs": [
    {
     "name": "stdout",
     "output_type": "stream",
     "text": [
      "              precision    recall  f1-score   support\n",
      "\n",
      "     Benigno       0.96      0.99      0.97        71\n",
      "     Maligno       0.98      0.93      0.95        43\n",
      "\n",
      "    accuracy                           0.96       114\n",
      "   macro avg       0.97      0.96      0.96       114\n",
      "weighted avg       0.97      0.96      0.96       114\n",
      "\n"
     ]
    }
   ],
   "source": [
    "from sklearn.ensemble import RandomForestClassifier\n",
    "from sklearn.metrics import classification_report\n",
    "\n",
    "model_rf = RandomForestClassifier(random_state=42)\n",
    "model_rf.fit(X_train, y_train)\n",
    "\n",
    "y_pred = model_rf.predict(X_test)\n",
    "print(classification_report(y_test, y_pred, target_names=['Benigno', 'Maligno']))\n"
   ]
  },
  {
   "cell_type": "code",
   "execution_count": null,
   "metadata": {},
   "outputs": [
    {
     "name": "stdout",
     "output_type": "stream",
     "text": [
      "Resultados de Regresión Logística:\n",
      "              precision    recall  f1-score   support\n",
      "\n",
      "     Benigno       0.95      0.99      0.97        71\n",
      "     Maligno       0.97      0.91      0.94        43\n",
      "\n",
      "    accuracy                           0.96       114\n",
      "   macro avg       0.96      0.95      0.95       114\n",
      "weighted avg       0.96      0.96      0.96       114\n",
      "\n"
     ]
    }
   ],
   "source": [
    "from sklearn.linear_model import LogisticRegression\n",
    "from sklearn.metrics import classification_report\n",
    "\n",
    "logreg_model = LogisticRegression(max_iter=5000, random_state=42)\n",
    "logreg_model.fit(X_train, y_train)\n",
    "y_pred_logreg = logreg_model.predict(X_test)\n",
    "\n",
    "print(\"Results Logistic Regression:\")\n",
    "print(classification_report(y_test, y_pred_logreg, target_names=['Benigno', 'Maligno']))\n"
   ]
  },
  {
   "cell_type": "code",
   "execution_count": null,
   "metadata": {},
   "outputs": [
    {
     "name": "stdout",
     "output_type": "stream",
     "text": [
      "Resultados de Support Vector Machine (SVM):\n",
      "              precision    recall  f1-score   support\n",
      "\n",
      "     Benigno       0.95      0.99      0.97        71\n",
      "     Maligno       0.97      0.91      0.94        43\n",
      "\n",
      "    accuracy                           0.96       114\n",
      "   macro avg       0.96      0.95      0.95       114\n",
      "weighted avg       0.96      0.96      0.96       114\n",
      "\n"
     ]
    }
   ],
   "source": [
    "from sklearn.svm import SVC\n",
    "\n",
    "svm_model = SVC(kernel='linear', random_state=42)\n",
    "svm_model.fit(X_train, y_train)\n",
    "\n",
    "y_pred_svm = svm_model.predict(X_test)\n",
    "print(\"Results Support Vector Machine (SVM):\")\n",
    "print(classification_report(y_test, y_pred_svm, target_names=['Benigno', 'Maligno']))\n"
   ]
  },
  {
   "cell_type": "code",
   "execution_count": null,
   "metadata": {},
   "outputs": [
    {
     "name": "stdout",
     "output_type": "stream",
     "text": [
      "Resultados de Gradient Boosting:\n",
      "              precision    recall  f1-score   support\n",
      "\n",
      "     Benigno       0.96      0.97      0.97        71\n",
      "     Maligno       0.95      0.93      0.94        43\n",
      "\n",
      "    accuracy                           0.96       114\n",
      "   macro avg       0.96      0.95      0.95       114\n",
      "weighted avg       0.96      0.96      0.96       114\n",
      "\n"
     ]
    }
   ],
   "source": [
    "from sklearn.ensemble import GradientBoostingClassifier\n",
    "\n",
    "gb_model = GradientBoostingClassifier(random_state=42)\n",
    "gb_model.fit(X_train, y_train)\n",
    "\n",
    "y_pred_gb = gb_model.predict(X_test)\n",
    "print(\"Resulsts Gradient Boosting:\")\n",
    "print(classification_report(y_test, y_pred_gb, target_names=['Benigno', 'Maligno']))\n"
   ]
  },
  {
   "cell_type": "code",
   "execution_count": null,
   "metadata": {},
   "outputs": [
    {
     "name": "stdout",
     "output_type": "stream",
     "text": [
      "Accuracy promedio con validación cruzada (Random Forest): 0.9560937742586555\n",
      "Accuracy promedio con validación cruzada (Logistic Regression): 0.9507995652848935\n",
      "Accuracy promedio con validación cruzada (SVM): 0.9455364073901569\n",
      "Accuracy promedio con validación cruzada (Gradient Boosting): 0.9613724576929048\n"
     ]
    }
   ],
   "source": [
    "from sklearn.model_selection import cross_val_score\n",
    "\n",
    "cv_scores = cross_val_score(model_rf, X, y, cv=5, scoring='accuracy')\n",
    "print(\"Average Accuracy with cross-validation (Random Forest):\", cv_scores.mean())\n",
    "\n",
    "cv_scores = cross_val_score(logreg_model, X, y, cv=5, scoring='accuracy')\n",
    "print(\"Average Accuracy with cross-validation (Logistic Regression):\", cv_scores.mean())\n",
    "\n",
    "cv_scores = cross_val_score(svm_model, X, y, cv=5, scoring='accuracy')\n",
    "print(\"Average Accuracy with cross-validation (SVM):\", cv_scores.mean())\n",
    "\n",
    "cv_scores = cross_val_score(gb_model, X, y, cv=5, scoring='accuracy')\n",
    "print(\"Average Accuracy with cross-validation (Gradient Boosting):\", cv_scores.mean())\n"
   ]
  },
  {
   "cell_type": "markdown",
   "metadata": {},
   "source": [
    "#### Choice of model\n",
    "We can see after several tests that the best algorithm for our case, although by very little difference, is Gradient Boosting, which achieves very good results in predicting whether a tumour is benign or malignant.\n",
    "The aim now is to try to refine the model to get it even closer to perfection. \n"
   ]
  },
  {
   "cell_type": "code",
   "execution_count": null,
   "metadata": {},
   "outputs": [
    {
     "name": "stdout",
     "output_type": "stream",
     "text": [
      "Mejores parámetros: {'learning_rate': 0.1, 'max_depth': 3, 'min_samples_leaf': 4, 'min_samples_split': 2, 'n_estimators': 100}\n",
      "Resultados del Mejor Modelo de Gradient Boosting:\n",
      "              precision    recall  f1-score   support\n",
      "\n",
      "     Benigno       0.96      0.97      0.97        71\n",
      "     Maligno       0.95      0.93      0.94        43\n",
      "\n",
      "    accuracy                           0.96       114\n",
      "   macro avg       0.96      0.95      0.95       114\n",
      "weighted avg       0.96      0.96      0.96       114\n",
      "\n"
     ]
    }
   ],
   "source": [
    "from sklearn.ensemble import GradientBoostingClassifier\n",
    "from sklearn.model_selection import GridSearchCV\n",
    "\n",
    "gb_model = GradientBoostingClassifier(random_state=42)\n",
    "\n",
    "param_grid = {\n",
    "    'n_estimators': [100, 200, 300],      # Número de árboles\n",
    "    'learning_rate': [0.01, 0.1, 0.2],    # Tasa de aprendizaje\n",
    "    'max_depth': [3, 4, 5],               # Profundidad de los árboles\n",
    "    'min_samples_split': [2, 5, 10],      # Muestras mínimas para dividir un nodo\n",
    "    'min_samples_leaf': [1, 2, 4]         # Muestras mínimas en una hoja\n",
    "}\n",
    "\n",
    "grid_search = GridSearchCV(\n",
    "    estimator=gb_model,\n",
    "    param_grid=param_grid,\n",
    "    cv=5,              # Validación cruzada de 5 folds\n",
    "    scoring='accuracy',\n",
    "    verbose=0,\n",
    "    n_jobs=-1          # Usar todos los núcleos disponibles\n",
    ")\n",
    "\n",
    "grid_search.fit(X_train, y_train)\n",
    "\n",
    "print(\"Best Parameters:\", grid_search.best_params_)\n",
    "\n",
    "# Evaluar el mejor modelo\n",
    "best_gb_model = grid_search.best_estimator_\n",
    "y_pred_best_gb = best_gb_model.predict(X_test)\n",
    "\n",
    "from sklearn.metrics import classification_report\n",
    "print(\"Best Gradient Boosting Model Results:\")\n",
    "print(classification_report(y_test, y_pred_best_gb, target_names=['Benigno', 'Maligno']))\n"
   ]
  },
  {
   "cell_type": "code",
   "execution_count": 12,
   "metadata": {},
   "outputs": [
    {
     "name": "stdout",
     "output_type": "stream",
     "text": [
      "                    Feature  Importance\n",
      "7       mean concave points    0.462979\n",
      "27     worst concave points    0.255853\n",
      "20             worst radius    0.060649\n",
      "23               worst area    0.040891\n",
      "22          worst perimeter    0.039990\n",
      "21            worst texture    0.031533\n",
      "1              mean texture    0.029382\n",
      "26          worst concavity    0.019309\n",
      "16          concavity error    0.016487\n",
      "13               area error    0.011108\n",
      "10             radius error    0.005589\n",
      "9    mean fractal dimension    0.003759\n",
      "17     concave points error    0.002998\n",
      "5          mean compactness    0.002488\n",
      "12          perimeter error    0.002378\n",
      "24         worst smoothness    0.002181\n",
      "19  fractal dimension error    0.002023\n",
      "3                 mean area    0.001985\n",
      "4           mean smoothness    0.001553\n",
      "25        worst compactness    0.001420\n",
      "2            mean perimeter    0.001122\n",
      "6            mean concavity    0.001059\n",
      "15        compactness error    0.000835\n",
      "28           worst symmetry    0.000728\n",
      "11            texture error    0.000675\n",
      "14         smoothness error    0.000524\n",
      "18           symmetry error    0.000291\n",
      "0               mean radius    0.000145\n",
      "29  worst fractal dimension    0.000040\n",
      "8             mean symmetry    0.000025\n"
     ]
    },
    {
     "data": {
      "image/png": "[encoded data removed]",
      "text/plain": [
       "<Figure size 1000x800 with 1 Axes>"
      ]
     },
     "metadata": {},
     "output_type": "display_data"
    }
   ],
   "source": [
    "import pandas as pd\n",
    "import matplotlib.pyplot as plt\n",
    "\n",
    "importances = best_gb_model.feature_importances_\n",
    "\n",
    "importance_df = pd.DataFrame({\n",
    "    'Feature': X.columns,\n",
    "    'Importance': importances\n",
    "}).sort_values(by='Importance', ascending=False)\n",
    "\n",
    "print(importance_df)\n",
    "\n",
    "plt.figure(figsize=(10, 8))\n",
    "plt.barh(importance_df['Feature'], importance_df['Importance'])\n",
    "plt.title('Importancia de las Características (Gradient Boosting)')\n",
    "plt.xlabel('Importancia')\n",
    "plt.ylabel('Características')\n",
    "plt.gca().invert_yaxis()\n",
    "plt.show()\n"
   ]
  },
  {
   "cell_type": "code",
   "execution_count": null,
   "metadata": {},
   "outputs": [
    {
     "name": "stdout",
     "output_type": "stream",
     "text": [
      "Características seleccionadas: ['mean concave points', 'worst concave points', 'worst radius', 'worst area', 'worst perimeter', 'worst texture', 'mean texture', 'worst concavity', 'concavity error', 'area error', 'radius error', 'mean fractal dimension', 'concave points error', 'mean compactness', 'perimeter error', 'worst smoothness', 'fractal dimension error', 'mean area', 'mean smoothness', 'worst compactness', 'mean perimeter', 'mean concavity']\n",
      "Nuevas dimensiones de X_train: (455, 22)\n"
     ]
    }
   ],
   "source": [
    "# Seleccionar características con importancia mayor a un umbral (por ejemplo, 0.001)\n",
    "threshold = 0.001\n",
    "important_features = importance_df[importance_df['Importance'] > threshold]['Feature']\n",
    "\n",
    "# Filtrar el dataset con las características importantes\n",
    "X_train_filtered = X_train[important_features]\n",
    "X_test_filtered = X_test[important_features]\n",
    "\n",
    "# Confirmar las dimensiones\n",
    "print(\"Selected features:\", list(important_features))\n",
    "print(\"New dimensions of X_train:\", X_train_filtered.shape)\n"
   ]
  },
  {
   "cell_type": "markdown",
   "metadata": {},
   "source": []
  },
  {
   "cell_type": "code",
   "execution_count": null,
   "metadata": {},
   "outputs": [
    {
     "name": "stdout",
     "output_type": "stream",
     "text": [
      "[LightGBM] [Warning] Found whitespace in feature_names, replace with underlines\n",
      "[LightGBM] [Info] Number of positive: 169, number of negative: 286\n",
      "[LightGBM] [Info] Auto-choosing col-wise multi-threading, the overhead of testing was 0.000565 seconds.\n",
      "You can set `force_col_wise=true` to remove the overhead.\n",
      "[LightGBM] [Info] Total Bins 3332\n",
      "[LightGBM] [Info] Number of data points in the train set: 455, number of used features: 22\n",
      "[LightGBM] [Info] [binary:BoostFromScore]: pavg=0.371429 -> initscore=-0.526093\n",
      "[LightGBM] [Info] Start training from score -0.526093\n",
      "[LightGBM] [Warning] No further splits with positive gain, best gain: -inf\n",
      "[LightGBM] [Warning] No further splits with positive gain, best gain: -inf\n",
      "[LightGBM] [Warning] No further splits with positive gain, best gain: -inf\n",
      "[LightGBM] [Warning] No further splits with positive gain, best gain: -inf\n",
      "[LightGBM] [Warning] No further splits with positive gain, best gain: -inf\n",
      "[LightGBM] [Warning] No further splits with positive gain, best gain: -inf\n",
      "[LightGBM] [Warning] No further splits with positive gain, best gain: -inf\n",
      "[LightGBM] [Warning] No further splits with positive gain, best gain: -inf\n",
      "[LightGBM] [Warning] No further splits with positive gain, best gain: -inf\n",
      "[LightGBM] [Warning] No further splits with positive gain, best gain: -inf\n",
      "[LightGBM] [Warning] No further splits with positive gain, best gain: -inf\n",
      "[LightGBM] [Warning] No further splits with positive gain, best gain: -inf\n",
      "[LightGBM] [Warning] No further splits with positive gain, best gain: -inf\n",
      "[LightGBM] [Warning] No further splits with positive gain, best gain: -inf\n",
      "[LightGBM] [Warning] No further splits with positive gain, best gain: -inf\n",
      "[LightGBM] [Warning] No further splits with positive gain, best gain: -inf\n",
      "[LightGBM] [Warning] No further splits with positive gain, best gain: -inf\n",
      "[LightGBM] [Warning] No further splits with positive gain, best gain: -inf\n",
      "[LightGBM] [Warning] No further splits with positive gain, best gain: -inf\n",
      "[LightGBM] [Warning] No further splits with positive gain, best gain: -inf\n",
      "[LightGBM] [Warning] No further splits with positive gain, best gain: -inf\n",
      "[LightGBM] [Warning] No further splits with positive gain, best gain: -inf\n",
      "[LightGBM] [Warning] No further splits with positive gain, best gain: -inf\n",
      "[LightGBM] [Warning] No further splits with positive gain, best gain: -inf\n",
      "[LightGBM] [Warning] No further splits with positive gain, best gain: -inf\n",
      "[LightGBM] [Warning] No further splits with positive gain, best gain: -inf\n",
      "[LightGBM] [Warning] No further splits with positive gain, best gain: -inf\n",
      "[LightGBM] [Warning] No further splits with positive gain, best gain: -inf\n",
      "[LightGBM] [Warning] No further splits with positive gain, best gain: -inf\n",
      "[LightGBM] [Warning] No further splits with positive gain, best gain: -inf\n",
      "[LightGBM] [Warning] No further splits with positive gain, best gain: -inf\n",
      "[LightGBM] [Warning] No further splits with positive gain, best gain: -inf\n",
      "[LightGBM] [Warning] No further splits with positive gain, best gain: -inf\n",
      "[LightGBM] [Warning] No further splits with positive gain, best gain: -inf\n",
      "[LightGBM] [Warning] No further splits with positive gain, best gain: -inf\n",
      "[LightGBM] [Warning] No further splits with positive gain, best gain: -inf\n",
      "[LightGBM] [Warning] No further splits with positive gain, best gain: -inf\n",
      "[LightGBM] [Warning] No further splits with positive gain, best gain: -inf\n",
      "[LightGBM] [Warning] No further splits with positive gain, best gain: -inf\n",
      "[LightGBM] [Warning] No further splits with positive gain, best gain: -inf\n",
      "[LightGBM] [Warning] No further splits with positive gain, best gain: -inf\n",
      "[LightGBM] [Warning] No further splits with positive gain, best gain: -inf\n",
      "[LightGBM] [Warning] No further splits with positive gain, best gain: -inf\n",
      "[LightGBM] [Warning] No further splits with positive gain, best gain: -inf\n",
      "[LightGBM] [Warning] No further splits with positive gain, best gain: -inf\n",
      "[LightGBM] [Warning] No further splits with positive gain, best gain: -inf\n",
      "[LightGBM] [Warning] No further splits with positive gain, best gain: -inf\n",
      "[LightGBM] [Warning] No further splits with positive gain, best gain: -inf\n",
      "[LightGBM] [Warning] No further splits with positive gain, best gain: -inf\n",
      "[LightGBM] [Warning] No further splits with positive gain, best gain: -inf\n",
      "[LightGBM] [Warning] No further splits with positive gain, best gain: -inf\n",
      "[LightGBM] [Warning] No further splits with positive gain, best gain: -inf\n",
      "[LightGBM] [Warning] No further splits with positive gain, best gain: -inf\n",
      "[LightGBM] [Warning] No further splits with positive gain, best gain: -inf\n",
      "[LightGBM] [Warning] No further splits with positive gain, best gain: -inf\n",
      "[LightGBM] [Warning] No further splits with positive gain, best gain: -inf\n",
      "[LightGBM] [Warning] No further splits with positive gain, best gain: -inf\n",
      "[LightGBM] [Warning] No further splits with positive gain, best gain: -inf\n",
      "[LightGBM] [Warning] No further splits with positive gain, best gain: -inf\n",
      "[LightGBM] [Warning] No further splits with positive gain, best gain: -inf\n",
      "[LightGBM] [Warning] No further splits with positive gain, best gain: -inf\n",
      "[LightGBM] [Warning] No further splits with positive gain, best gain: -inf\n",
      "[LightGBM] [Warning] No further splits with positive gain, best gain: -inf\n",
      "[LightGBM] [Warning] No further splits with positive gain, best gain: -inf\n",
      "[LightGBM] [Warning] No further splits with positive gain, best gain: -inf\n",
      "[LightGBM] [Warning] No further splits with positive gain, best gain: -inf\n",
      "[LightGBM] [Warning] No further splits with positive gain, best gain: -inf\n",
      "[LightGBM] [Warning] No further splits with positive gain, best gain: -inf\n",
      "[LightGBM] [Warning] No further splits with positive gain, best gain: -inf\n",
      "[LightGBM] [Warning] No further splits with positive gain, best gain: -inf\n",
      "[LightGBM] [Warning] No further splits with positive gain, best gain: -inf\n",
      "[LightGBM] [Warning] No further splits with positive gain, best gain: -inf\n",
      "[LightGBM] [Warning] No further splits with positive gain, best gain: -inf\n",
      "[LightGBM] [Warning] No further splits with positive gain, best gain: -inf\n",
      "[LightGBM] [Warning] No further splits with positive gain, best gain: -inf\n",
      "[LightGBM] [Warning] No further splits with positive gain, best gain: -inf\n",
      "[LightGBM] [Warning] No further splits with positive gain, best gain: -inf\n",
      "[LightGBM] [Warning] No further splits with positive gain, best gain: -inf\n",
      "[LightGBM] [Warning] No further splits with positive gain, best gain: -inf\n",
      "[LightGBM] [Warning] No further splits with positive gain, best gain: -inf\n",
      "[LightGBM] [Warning] No further splits with positive gain, best gain: -inf\n",
      "[LightGBM] [Warning] No further splits with positive gain, best gain: -inf\n",
      "[LightGBM] [Warning] No further splits with positive gain, best gain: -inf\n",
      "[LightGBM] [Warning] No further splits with positive gain, best gain: -inf\n",
      "[LightGBM] [Warning] No further splits with positive gain, best gain: -inf\n",
      "[LightGBM] [Warning] No further splits with positive gain, best gain: -inf\n",
      "[LightGBM] [Warning] No further splits with positive gain, best gain: -inf\n",
      "[LightGBM] [Warning] No further splits with positive gain, best gain: -inf\n",
      "[LightGBM] [Warning] No further splits with positive gain, best gain: -inf\n",
      "[LightGBM] [Warning] No further splits with positive gain, best gain: -inf\n",
      "[LightGBM] [Warning] No further splits with positive gain, best gain: -inf\n",
      "[LightGBM] [Warning] No further splits with positive gain, best gain: -inf\n",
      "Resultados de LightGBM con características seleccionadas:\n",
      "              precision    recall  f1-score   support\n",
      "\n",
      "     Benigno       0.97      0.99      0.98        71\n",
      "     Maligno       0.98      0.95      0.96        43\n",
      "\n",
      "    accuracy                           0.97       114\n",
      "   macro avg       0.97      0.97      0.97       114\n",
      "weighted avg       0.97      0.97      0.97       114\n",
      "\n"
     ]
    }
   ],
   "source": [
    "import warnings\n",
    "from lightgbm import LGBMClassifier\n",
    "\n",
    "warnings.filterwarnings(\"ignore\", category=UserWarning)\n",
    "# Crear el modelo de LightGBM\n",
    "lgbm_model = LGBMClassifier(random_state=42)\n",
    "\n",
    "lgbm_model.fit(X_train_filtered, y_train)\n",
    "\n",
    "y_pred_lgbm = lgbm_model.predict(X_test_filtered)\n",
    "\n",
    "print(\"Results for LightGBM with the selected features:\")\n",
    "print(classification_report(y_test, y_pred_lgbm, target_names=['Benigno', 'Maligno']))\n"
   ]
  },
  {
   "cell_type": "code",
   "execution_count": 15,
   "metadata": {},
   "outputs": [
    {
     "name": "stdout",
     "output_type": "stream",
     "text": [
      "Resultados del modelo con características seleccionadas:\n",
      "              precision    recall  f1-score   support\n",
      "\n",
      "     Benigno       0.96      0.99      0.97        71\n",
      "     Maligno       0.98      0.93      0.95        43\n",
      "\n",
      "    accuracy                           0.96       114\n",
      "   macro avg       0.97      0.96      0.96       114\n",
      "weighted avg       0.97      0.96      0.96       114\n",
      "\n"
     ]
    }
   ],
   "source": [
    "gb_model_filtered = GradientBoostingClassifier(random_state=42)\n",
    "gb_model_filtered.fit(X_train_filtered, y_train)\n",
    "\n",
    "y_pred_filtered = gb_model_filtered.predict(X_test_filtered)\n",
    "\n",
    "from sklearn.metrics import classification_report\n",
    "print(\"Resultados del modelo con características seleccionadas:\")\n",
    "print(classification_report(y_test, y_pred_filtered, target_names=['Benigno', 'Maligno']))\n"
   ]
  },
  {
   "cell_type": "code",
   "execution_count": 16,
   "metadata": {},
   "outputs": [
    {
     "ename": "ValueError",
     "evalue": "Invalid classes inferred from unique values of `y`.  Expected: [0 1], got ['1' '2']",
     "output_type": "error",
     "traceback": [
      "\u001b[0;31m---------------------------------------------------------------------------\u001b[0m",
      "\u001b[0;31mValueError\u001b[0m                                Traceback (most recent call last)",
      "Cell \u001b[0;32mIn[16], line 8\u001b[0m\n\u001b[1;32m      5\u001b[0m xgb_model \u001b[38;5;241m=\u001b[39m XGBClassifier(random_state\u001b[38;5;241m=\u001b[39m\u001b[38;5;241m42\u001b[39m, use_label_encoder\u001b[38;5;241m=\u001b[39m\u001b[38;5;28;01mFalse\u001b[39;00m, eval_metric\u001b[38;5;241m=\u001b[39m\u001b[38;5;124m'\u001b[39m\u001b[38;5;124mlogloss\u001b[39m\u001b[38;5;124m'\u001b[39m)\n\u001b[1;32m      7\u001b[0m \u001b[38;5;66;03m# Entrenar el modelo con las características seleccionadas\u001b[39;00m\n\u001b[0;32m----> 8\u001b[0m \u001b[43mxgb_model\u001b[49m\u001b[38;5;241;43m.\u001b[39;49m\u001b[43mfit\u001b[49m\u001b[43m(\u001b[49m\u001b[43mX_train_filtered\u001b[49m\u001b[43m,\u001b[49m\u001b[43m \u001b[49m\u001b[43my_train\u001b[49m\u001b[43m)\u001b[49m\n\u001b[1;32m     10\u001b[0m \u001b[38;5;66;03m# Hacer predicciones\u001b[39;00m\n\u001b[1;32m     11\u001b[0m y_pred_xgb \u001b[38;5;241m=\u001b[39m xgb_model\u001b[38;5;241m.\u001b[39mpredict(X_test_filtered)\n",
      "File \u001b[0;32m~/Documentos/MLProjects/.venv/lib/python3.12/site-packages/xgboost/core.py:726\u001b[0m, in \u001b[0;36mrequire_keyword_args.<locals>.throw_if.<locals>.inner_f\u001b[0;34m(*args, **kwargs)\u001b[0m\n\u001b[1;32m    724\u001b[0m \u001b[38;5;28;01mfor\u001b[39;00m k, arg \u001b[38;5;129;01min\u001b[39;00m \u001b[38;5;28mzip\u001b[39m(sig\u001b[38;5;241m.\u001b[39mparameters, args):\n\u001b[1;32m    725\u001b[0m     kwargs[k] \u001b[38;5;241m=\u001b[39m arg\n\u001b[0;32m--> 726\u001b[0m \u001b[38;5;28;01mreturn\u001b[39;00m \u001b[43mfunc\u001b[49m\u001b[43m(\u001b[49m\u001b[38;5;241;43m*\u001b[39;49m\u001b[38;5;241;43m*\u001b[39;49m\u001b[43mkwargs\u001b[49m\u001b[43m)\u001b[49m\n",
      "File \u001b[0;32m~/Documentos/MLProjects/.venv/lib/python3.12/site-packages/xgboost/sklearn.py:1491\u001b[0m, in \u001b[0;36mXGBClassifier.fit\u001b[0;34m(self, X, y, sample_weight, base_margin, eval_set, verbose, xgb_model, sample_weight_eval_set, base_margin_eval_set, feature_weights)\u001b[0m\n\u001b[1;32m   1486\u001b[0m     expected_classes \u001b[38;5;241m=\u001b[39m \u001b[38;5;28mself\u001b[39m\u001b[38;5;241m.\u001b[39mclasses_\n\u001b[1;32m   1487\u001b[0m \u001b[38;5;28;01mif\u001b[39;00m (\n\u001b[1;32m   1488\u001b[0m     classes\u001b[38;5;241m.\u001b[39mshape \u001b[38;5;241m!=\u001b[39m expected_classes\u001b[38;5;241m.\u001b[39mshape\n\u001b[1;32m   1489\u001b[0m     \u001b[38;5;129;01mor\u001b[39;00m \u001b[38;5;129;01mnot\u001b[39;00m (classes \u001b[38;5;241m==\u001b[39m expected_classes)\u001b[38;5;241m.\u001b[39mall()\n\u001b[1;32m   1490\u001b[0m ):\n\u001b[0;32m-> 1491\u001b[0m     \u001b[38;5;28;01mraise\u001b[39;00m \u001b[38;5;167;01mValueError\u001b[39;00m(\n\u001b[1;32m   1492\u001b[0m         \u001b[38;5;124mf\u001b[39m\u001b[38;5;124m\"\u001b[39m\u001b[38;5;124mInvalid classes inferred from unique values of `y`.  \u001b[39m\u001b[38;5;124m\"\u001b[39m\n\u001b[1;32m   1493\u001b[0m         \u001b[38;5;124mf\u001b[39m\u001b[38;5;124m\"\u001b[39m\u001b[38;5;124mExpected: \u001b[39m\u001b[38;5;132;01m{\u001b[39;00mexpected_classes\u001b[38;5;132;01m}\u001b[39;00m\u001b[38;5;124m, got \u001b[39m\u001b[38;5;132;01m{\u001b[39;00mclasses\u001b[38;5;132;01m}\u001b[39;00m\u001b[38;5;124m\"\u001b[39m\n\u001b[1;32m   1494\u001b[0m     )\n\u001b[1;32m   1496\u001b[0m params \u001b[38;5;241m=\u001b[39m \u001b[38;5;28mself\u001b[39m\u001b[38;5;241m.\u001b[39mget_xgb_params()\n\u001b[1;32m   1498\u001b[0m \u001b[38;5;28;01mif\u001b[39;00m \u001b[38;5;28mcallable\u001b[39m(\u001b[38;5;28mself\u001b[39m\u001b[38;5;241m.\u001b[39mobjective):\n",
      "\u001b[0;31mValueError\u001b[0m: Invalid classes inferred from unique values of `y`.  Expected: [0 1], got ['1' '2']"
     ]
    }
   ],
   "source": [
    "from xgboost import XGBClassifier\n",
    "from sklearn.metrics import classification_report\n",
    "\n",
    "# Crear el modelo de XGBoost\n",
    "xgb_model = XGBClassifier(random_state=42, use_label_encoder=False, eval_metric='logloss')\n",
    "\n",
    "# Entrenar el modelo con las características seleccionadas\n",
    "xgb_model.fit(X_train_filtered, y_train)\n",
    "\n",
    "# Hacer predicciones\n",
    "y_pred_xgb = xgb_model.predict(X_test_filtered)\n",
    "\n",
    "# Evaluar el modelo\n",
    "print(\"Resultados de XGBoost con características seleccionadas:\")\n",
    "print(classification_report(y_test, y_pred_xgb, target_names=['Benigno', 'Maligno']))\n"
   ]
  },
  {
   "cell_type": "code",
   "execution_count": null,
   "metadata": {},
   "outputs": [],
   "source": [
    "from sklearn.metrics import accuracy_score, precision_score, recall_score, f1_score\n",
    "\n",
    "# XGBoost\n",
    "accuracy_xgb = accuracy_score(y_test, y_pred_xgb)\n",
    "precision_xgb_maligno = precision_score(y_test, y_pred_xgb, pos_label=1)\n",
    "recall_xgb_maligno = recall_score(y_test, y_pred_xgb, pos_label=1)\n",
    "f1_xgb_maligno = f1_score(y_test, y_pred_xgb, pos_label=1)\n",
    "\n",
    "# LightGBM\n",
    "accuracy_lgbm = accuracy_score(y_test, y_pred_lgbm)\n",
    "precision_lgbm_maligno = precision_score(y_test, y_pred_lgbm, pos_label=1)\n",
    "recall_lgbm_maligno = recall_score(y_test, y_pred_lgbm, pos_label=1)\n",
    "f1_lgbm_maligno = f1_score(y_test, y_pred_lgbm, pos_label=1)\n"
   ]
  },
  {
   "cell_type": "code",
   "execution_count": null,
   "metadata": {},
   "outputs": [
    {
     "name": "stdout",
     "output_type": "stream",
     "text": [
      "              Modelo  Accuracy  Precision (Maligno)  Recall (Maligno)  \\\n",
      "0  Gradient Boosting  0.960000             0.980000          0.930000   \n",
      "1            XGBoost  0.956140             0.952381          0.930233   \n",
      "2           LightGBM  0.973684             0.976190          0.953488   \n",
      "\n",
      "   F1-Score (Maligno)  \n",
      "0            0.950000  \n",
      "1            0.941176  \n",
      "2            0.964706  \n"
     ]
    }
   ],
   "source": [
    "results = {\n",
    "    'Modelo': ['Gradient Boosting', 'XGBoost', 'LightGBM'],\n",
    "    'Accuracy': [0.96, accuracy_xgb, accuracy_lgbm],\n",
    "    'Precision (Maligno)': [0.98, precision_xgb_maligno, precision_lgbm_maligno],\n",
    "    'Recall (Maligno)': [0.93, recall_xgb_maligno, recall_lgbm_maligno],\n",
    "    'F1-Score (Maligno)': [0.95, f1_xgb_maligno, f1_lgbm_maligno]\n",
    "}\n",
    "\n",
    "results_df = pd.DataFrame(results)\n",
    "print(results_df)\n"
   ]
  }
 ],
 "metadata": {
  "kernelspec": {
   "display_name": ".venv",
   "language": "python",
   "name": "python3"
  },
  "language_info": {
   "codemirror_mode": {
    "name": "ipython",
    "version": 3
   },
   "file_extension": ".py",
   "mimetype": "text/x-python",
   "name": "python",
   "nbconvert_exporter": "python",
   "pygments_lexer": "ipython3",
   "version": "3.12.3"
  }
 },
 "nbformat": 4,
 "nbformat_minor": 2
}
